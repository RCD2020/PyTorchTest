{
 "cells": [
  {
   "cell_type": "markdown",
   "metadata": {},
   "source": [
    "# Quick Start\n",
    "\n",
    "This work is part of [PyTorch's tutorial library](https://pytorch.org/tutorials/beginner/basics/quickstart_tutorial.html). Click the link for more elaboration."
   ]
  },
  {
   "cell_type": "markdown",
   "metadata": {},
   "source": [
    "# Working with Data\n",
    "\n",
    "Pytorch has two primitives used to work with data.\n",
    "\n",
    "1. `torch.utils.data.Dataset`\n",
    "    - Stores samples and their corresponding labels\n",
    "2. `torch.utils.data.DataLoader`\n",
    "    - Wraps an iterable around `Dataset`\n",
    "\n",
    "PyTorch offers domain specific libraries such as TorchText, TorchVision and TorchAudio. For this tutorial, we will be using TorchVision."
   ]
  },
  {
   "cell_type": "code",
   "execution_count": 1,
   "metadata": {},
   "outputs": [],
   "source": [
    "import torch\n",
    "from torch import nn\n",
    "from torch.utils.data import DataLoader\n",
    "from torchvision import datasets\n",
    "from torchvision.transforms import ToTensor"
   ]
  },
  {
   "cell_type": "markdown",
   "metadata": {},
   "source": [
    "Each library also has its own datasets that we can utilize to train our models. The torchvision library features many popular datasets such as CIFAR, COCO, [etc](https://pytorch.org/vision/stable/datasets.html), and today we will use the FashionMNIST dataset. Let's grab that data set now."
   ]
  },
  {
   "cell_type": "code",
   "execution_count": 3,
   "metadata": {},
   "outputs": [],
   "source": [
    "# grab the data to train our model on\n",
    "training_data = datasets.FashionMNIST(\n",
    "    root='data',\n",
    "    train=True,\n",
    "    download=False,\n",
    "    transform=ToTensor()\n",
    ")\n",
    "\n",
    "# grab the data to test our model against\n",
    "test_data = datasets.FashionMNIST(\n",
    "    root='data',\n",
    "    train=False,\n",
    "    download=False,\n",
    "    transform=ToTensor()\n",
    ")"
   ]
  },
  {
   "cell_type": "markdown",
   "metadata": {},
   "source": [
    "Now we can pass our dataset into our dataloader. This will wrap an iterable around the dataset, which supports automatic batching, sampling, shuffling, and multiprocess data loading. The batch size is the amount of features and labels for each element in the dataloader iterable."
   ]
  },
  {
   "cell_type": "code",
   "execution_count": 4,
   "metadata": {},
   "outputs": [
    {
     "name": "stdout",
     "output_type": "stream",
     "text": [
      "Shape of X [N, C, H, W]: torch.Size([64, 1, 28, 28])\n",
      "Shape of y: torch.Size([64]) torch.int64\n"
     ]
    }
   ],
   "source": [
    "batch_size = 64\n",
    "\n",
    "# create data loaders\n",
    "train_dataloader = DataLoader(training_data, batch_size=batch_size)\n",
    "test_dataloader = DataLoader(test_data, batch_size=batch_size)\n",
    "\n",
    "for X, y in test_dataloader:\n",
    "    print(f'Shape of X [N, C, H, W]: {X.shape}')\n",
    "    print(f'Shape of y: {y.shape} {y.dtype}')\n",
    "    break"
   ]
  },
  {
   "cell_type": "markdown",
   "metadata": {},
   "source": [
    "# Creating Models\n",
    "\n",
    "To create a class in PyTorch, we'll create a class that inherits from `nn.Module`. We can define the layers in the `__init__` function and specify how data will pass through in the `forward` function. To accelerate operations in the neural network, we can use gpu or mps if it is available."
   ]
  },
  {
   "cell_type": "code",
   "execution_count": 5,
   "metadata": {},
   "outputs": [
    {
     "name": "stdout",
     "output_type": "stream",
     "text": [
      "Using cpu device\n",
      "NeuralNetwork(\n",
      "  (flatten): Flatten(start_dim=1, end_dim=-1)\n",
      "  (linear_relu_stack): Sequential(\n",
      "    (0): Linear(in_features=784, out_features=512, bias=True)\n",
      "    (1): ReLU()\n",
      "    (2): Linear(in_features=512, out_features=512, bias=True)\n",
      "    (3): ReLU()\n",
      "    (4): Linear(in_features=512, out_features=10, bias=True)\n",
      "  )\n",
      ")\n"
     ]
    }
   ],
   "source": [
    "# get cpu, gpu, or mps device for training\n",
    "device = (\n",
    "    'cuda'\n",
    "    if torch.cuda.is_available()\n",
    "    else 'mps'\n",
    "    if torch.backends.mps.is_available()\n",
    "    else 'cpu'\n",
    ")\n",
    "print(f'Using {device} device')\n",
    "\n",
    "# define model\n",
    "class NeuralNetwork(nn.Module):\n",
    "    def __init__(self):\n",
    "        super().__init__()\n",
    "        self.flatten = nn.Flatten()\n",
    "        self.linear_relu_stack = nn.Sequential(\n",
    "            nn.Linear(28*28, 512),\n",
    "            nn.ReLU(),\n",
    "            nn.Linear(512, 512),\n",
    "            nn.ReLU(),\n",
    "            nn.Linear(512, 10)\n",
    "        )\n",
    "\n",
    "    def forward(self, x):\n",
    "        x = self.flatten(x)\n",
    "        logits = self.linear_relu_stack(x)\n",
    "        return logits\n",
    "    \n",
    "model = NeuralNetwork().to(device)\n",
    "print(model)"
   ]
  },
  {
   "cell_type": "markdown",
   "metadata": {},
   "source": [
    "# Optimizing Model Parameters\n",
    "\n",
    "To train a model, we need a loss function and an optimizer"
   ]
  },
  {
   "cell_type": "code",
   "execution_count": 6,
   "metadata": {},
   "outputs": [],
   "source": [
    "loss_fn = nn.CrossEntropyLoss()\n",
    "optimizer = torch.optim.SGD(model.parameters(), lr=1e-3)"
   ]
  },
  {
   "cell_type": "markdown",
   "metadata": {},
   "source": [
    "In a single training loop, the model makes predictions on the training dataset (fed to it in batches), and back propogates the prediction error to adjust the model's parameters"
   ]
  },
  {
   "cell_type": "code",
   "execution_count": 7,
   "metadata": {},
   "outputs": [],
   "source": [
    "def train(dataloader, model, loss_fn, optimizer):\n",
    "    size = len(dataloader.dataset)\n",
    "    model.train()\n",
    "\n",
    "    for batch, (X, y), in enumerate(dataloader):\n",
    "        X, y = X.to(device), y.to(device)\n",
    "\n",
    "        # Compute prediction error\n",
    "        pred = model(X)\n",
    "        loss = loss_fn(pred, y)\n",
    "\n",
    "        # Backpropagation\n",
    "        loss.backward()\n",
    "        optimizer.step()\n",
    "        optimizer.zero_grad()\n",
    "\n",
    "        if batch % 100 == 0:\n",
    "            loss, current = loss.item(), (batch + 1) * len(X)\n",
    "            print(f'loss: {loss:>7f} [{current:>5d} / {size:>5d}]')"
   ]
  },
  {
   "cell_type": "markdown",
   "metadata": {},
   "source": [
    "We also check the model's performance against the test dataset to ensure it is learning"
   ]
  },
  {
   "cell_type": "code",
   "execution_count": 8,
   "metadata": {},
   "outputs": [],
   "source": [
    "def test(dataloader, model, loss_fn):\n",
    "    size = len(dataloader.dataset)\n",
    "    num_batches = len(dataloader)\n",
    "    model.eval()\n",
    "    test_loss, correct = 0, 0\n",
    "    with torch.no_grad():\n",
    "        for X, y in dataloader:\n",
    "            X, y = X.to(device), y.to(device)\n",
    "            pred = model(X)\n",
    "            test_loss += loss_fn(pred, y).item()\n",
    "            correct += (pred.argmax(1) == y).type(torch.float).sum().item()\n",
    "        test_loss /= num_batches\n",
    "        correct /= size\n",
    "        print(f'Test Error: \\n Accuracy: {(100 * correct):>0.1f}%, Avg loss: {test_loss:>8f} \\n')"
   ]
  },
  {
   "cell_type": "markdown",
   "metadata": {},
   "source": [
    "The training process is carried out over several iterations (epochs). During each epoch, the model learns parameters to make better predictions. We print the model's accuracy and loss at each epoch; we'd like to see the accuracy increase and the loss decrease with every epoch."
   ]
  },
  {
   "cell_type": "code",
   "execution_count": 9,
   "metadata": {},
   "outputs": [
    {
     "name": "stdout",
     "output_type": "stream",
     "text": [
      "Epoch: 1\n",
      "----------------------\n",
      "loss: 2.300294 [   64 / 60000]\n",
      "loss: 2.290239 [ 6464 / 60000]\n",
      "loss: 2.274131 [12864 / 60000]\n",
      "loss: 2.274196 [19264 / 60000]\n",
      "loss: 2.251212 [25664 / 60000]\n",
      "loss: 2.220516 [32064 / 60000]\n",
      "loss: 2.229866 [38464 / 60000]\n",
      "loss: 2.192703 [44864 / 60000]\n",
      "loss: 2.193669 [51264 / 60000]\n",
      "loss: 2.169819 [57664 / 60000]\n",
      "Test Error: \n",
      " Accuracy: 45.7%, Avg loss: 2.161454 \n",
      "\n",
      "Epoch: 2\n",
      "----------------------\n",
      "loss: 2.169209 [   64 / 60000]\n",
      "loss: 2.159018 [ 6464 / 60000]\n",
      "loss: 2.102790 [12864 / 60000]\n",
      "loss: 2.127158 [19264 / 60000]\n",
      "loss: 2.073288 [25664 / 60000]\n",
      "loss: 2.014630 [32064 / 60000]\n",
      "loss: 2.041771 [38464 / 60000]\n",
      "loss: 1.962308 [44864 / 60000]\n",
      "loss: 1.973387 [51264 / 60000]\n",
      "loss: 1.915938 [57664 / 60000]\n",
      "Test Error: \n",
      " Accuracy: 56.3%, Avg loss: 1.905005 \n",
      "\n",
      "Epoch: 3\n",
      "----------------------\n",
      "loss: 1.936152 [   64 / 60000]\n",
      "loss: 1.905844 [ 6464 / 60000]\n",
      "loss: 1.787696 [12864 / 60000]\n",
      "loss: 1.833627 [19264 / 60000]\n",
      "loss: 1.731061 [25664 / 60000]\n",
      "loss: 1.676755 [32064 / 60000]\n",
      "loss: 1.698689 [38464 / 60000]\n",
      "loss: 1.601198 [44864 / 60000]\n",
      "loss: 1.629802 [51264 / 60000]\n",
      "loss: 1.534057 [57664 / 60000]\n",
      "Test Error: \n",
      " Accuracy: 59.9%, Avg loss: 1.543975 \n",
      "\n",
      "Epoch: 4\n",
      "----------------------\n",
      "loss: 1.612137 [   64 / 60000]\n",
      "loss: 1.575564 [ 6464 / 60000]\n",
      "loss: 1.424202 [12864 / 60000]\n",
      "loss: 1.495287 [19264 / 60000]\n",
      "loss: 1.382001 [25664 / 60000]\n",
      "loss: 1.372211 [32064 / 60000]\n",
      "loss: 1.384011 [38464 / 60000]\n",
      "loss: 1.311667 [44864 / 60000]\n",
      "loss: 1.346879 [51264 / 60000]\n",
      "loss: 1.253522 [57664 / 60000]\n",
      "Test Error: \n",
      " Accuracy: 62.0%, Avg loss: 1.274873 \n",
      "\n",
      "Epoch: 5\n",
      "----------------------\n",
      "loss: 1.357307 [   64 / 60000]\n",
      "loss: 1.336048 [ 6464 / 60000]\n",
      "loss: 1.168381 [12864 / 60000]\n",
      "loss: 1.272647 [19264 / 60000]\n",
      "loss: 1.148230 [25664 / 60000]\n",
      "loss: 1.171110 [32064 / 60000]\n",
      "loss: 1.188109 [38464 / 60000]\n",
      "loss: 1.128662 [44864 / 60000]\n",
      "loss: 1.166381 [51264 / 60000]\n",
      "loss: 1.088989 [57664 / 60000]\n",
      "Test Error: \n",
      " Accuracy: 64.2%, Avg loss: 1.105865 \n",
      "\n",
      "Done!\n"
     ]
    }
   ],
   "source": [
    "epochs = 5\n",
    "for t in range(epochs):\n",
    "    print(f'Epoch: {t+1}\\n----------------------')\n",
    "    train(train_dataloader, model, loss_fn, optimizer)\n",
    "    test(test_dataloader, model, loss_fn)\n",
    "print('Done!')"
   ]
  },
  {
   "cell_type": "markdown",
   "metadata": {},
   "source": [
    "# Saving Models\n",
    "\n",
    "A common way to save a model is to serialize the internal state dictionary (containing the model parameters)"
   ]
  },
  {
   "cell_type": "code",
   "execution_count": 10,
   "metadata": {},
   "outputs": [
    {
     "name": "stdout",
     "output_type": "stream",
     "text": [
      "Saved PyTorch Model State to model.pth\n"
     ]
    }
   ],
   "source": [
    "torch.save(model.state_dict(), 'model.pth')\n",
    "print('Saved PyTorch Model State to model.pth')"
   ]
  },
  {
   "cell_type": "markdown",
   "metadata": {},
   "source": [
    "# Loading Models\n",
    "\n",
    "The process for loading a model includes recreating the model structure and loading the state dictionary into it"
   ]
  },
  {
   "cell_type": "code",
   "execution_count": 11,
   "metadata": {},
   "outputs": [
    {
     "data": {
      "text/plain": [
       "<All keys matched successfully>"
      ]
     },
     "execution_count": 11,
     "metadata": {},
     "output_type": "execute_result"
    }
   ],
   "source": [
    "model = NeuralNetwork().to(device)\n",
    "model.load_state_dict(torch.load('model.pth'))"
   ]
  },
  {
   "cell_type": "markdown",
   "metadata": {},
   "source": [
    "This model can now be used to make predictions."
   ]
  },
  {
   "cell_type": "code",
   "execution_count": 17,
   "metadata": {},
   "outputs": [
    {
     "name": "stdout",
     "output_type": "stream",
     "text": [
      "Predicted: \"Ankle boot\", Actual: \"Ankle boot\"\n"
     ]
    }
   ],
   "source": [
    "classes = [\n",
    "    \"T-shirt/top\",\n",
    "    \"Trouser\",\n",
    "    \"Pullover\",\n",
    "    \"Dress\",\n",
    "    \"Coat\",\n",
    "    \"Sandal\",\n",
    "    \"Shirt\",\n",
    "    \"Sneaker\",\n",
    "    \"Bag\",\n",
    "    \"Ankle boot\",\n",
    "]\n",
    "\n",
    "model.eval()\n",
    "item = 0\n",
    "x, y = test_data[item][0], test_data[item][1]\n",
    "with torch.no_grad():\n",
    "    x = x.to(device)\n",
    "    pred = model(x)\n",
    "    predicted, actual = classes[pred[0].argmax(0)], classes[y]\n",
    "    print(f'Predicted: \"{predicted}\", Actual: \"{actual}\"')"
   ]
  }
 ],
 "metadata": {
  "kernelspec": {
   "display_name": "venv",
   "language": "python",
   "name": "python3"
  },
  "language_info": {
   "codemirror_mode": {
    "name": "ipython",
    "version": 3
   },
   "file_extension": ".py",
   "mimetype": "text/x-python",
   "name": "python",
   "nbconvert_exporter": "python",
   "pygments_lexer": "ipython3",
   "version": "3.8.6"
  }
 },
 "nbformat": 4,
 "nbformat_minor": 2
}
